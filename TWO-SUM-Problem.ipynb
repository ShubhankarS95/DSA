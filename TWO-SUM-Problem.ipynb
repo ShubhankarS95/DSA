{
 "cells": [
  {
   "cell_type": "code",
   "execution_count": 1,
   "id": "7cdda177-e628-4c8e-9476-9ab622fb87b6",
   "metadata": {},
   "outputs": [],
   "source": [
    "# input list and Target Sum\n",
    "\n",
    "num_list_1,sum_1=[3,3],6\n",
    "\n",
    "num_list_2,sum_2=[-3, -1, 0, 1, 2],-2\n",
    "\n",
    "num_list_3,sum_3=[2,7,11,15],9\n"
   ]
  },
  {
   "cell_type": "markdown",
   "id": "15569073-0c28-4b6c-99f5-9ddf5ca9b4de",
   "metadata": {},
   "source": [
    "1️⃣ 𝗕𝗿𝘂𝘁𝗲 𝗙𝗼𝗿𝗰𝗲 𝗔𝗽𝗽𝗿𝗼𝗮𝗰𝗵 ⏱ : O(N²) | 💾 O(1\n",
    "\n",
    "Use two loops:\n",
    "- Outer loop i → pick each element.\n",
    "- Inner loop j → check the rest of the elements.\n",
    "- If nums[i] + nums[j] == target → return [i, j].m"
   ]
  },
  {
   "cell_type": "code",
   "execution_count": 2,
   "id": "edeaceb0-615c-46fa-ac6b-a26424bd8e16",
   "metadata": {},
   "outputs": [],
   "source": [
    "def two_sum_brute_force(nums:list[int],target:int)->list[int]:\n",
    "    for i in range(len(nums)-1):\n",
    "        for j in range(i+1,len(nums)):\n",
    "            if target==(nums[i]+nums[j]):\n",
    "                return [i,j]\n",
    "                break\n"
   ]
  },
  {
   "cell_type": "code",
   "execution_count": 3,
   "id": "21bb8f08-29dd-43d3-a0ed-0cbe0f14745a",
   "metadata": {
    "scrolled": true
   },
   "outputs": [
    {
     "name": "stdout",
     "output_type": "stream",
     "text": [
      "281 ns ± 9.37 ns per loop (mean ± std. dev. of 7 runs, 1,000,000 loops each)\n"
     ]
    }
   ],
   "source": [
    "%%timeit\n",
    "two_sum_brute_force(num_list_1,sum_1)\n"
   ]
  },
  {
   "cell_type": "code",
   "execution_count": 4,
   "id": "d067ccee-bd92-401f-bc7a-84d6a2a62d10",
   "metadata": {},
   "outputs": [
    {
     "data": {
      "text/plain": [
       "[0, 1]"
      ]
     },
     "execution_count": 4,
     "metadata": {},
     "output_type": "execute_result"
    }
   ],
   "source": [
    "two_sum_brute_force(num_list_1,sum_1)"
   ]
  },
  {
   "cell_type": "code",
   "execution_count": 5,
   "id": "f0a27bb1-595e-456e-85c5-b2a8cd95f0e2",
   "metadata": {},
   "outputs": [
    {
     "name": "stdout",
     "output_type": "stream",
     "text": [
      "346 ns ± 7.52 ns per loop (mean ± std. dev. of 7 runs, 1,000,000 loops each)\n"
     ]
    }
   ],
   "source": [
    "%%timeit\n",
    "two_sum_brute_force(num_list_2,sum_2)"
   ]
  },
  {
   "cell_type": "code",
   "execution_count": 6,
   "id": "0848c2b2-600f-431a-9017-0ae62fdc4903",
   "metadata": {},
   "outputs": [
    {
     "data": {
      "text/plain": [
       "[0, 3]"
      ]
     },
     "execution_count": 6,
     "metadata": {},
     "output_type": "execute_result"
    }
   ],
   "source": [
    "two_sum_brute_force(num_list_2,sum_2)"
   ]
  },
  {
   "cell_type": "code",
   "execution_count": 7,
   "id": "458bf5b9-c0d6-4c46-90c7-476f156a5838",
   "metadata": {},
   "outputs": [
    {
     "name": "stdout",
     "output_type": "stream",
     "text": [
      "278 ns ± 7.94 ns per loop (mean ± std. dev. of 7 runs, 1,000,000 loops each)\n"
     ]
    }
   ],
   "source": [
    "%%timeit\n",
    "two_sum_brute_force(num_list_3,sum_3)"
   ]
  },
  {
   "cell_type": "code",
   "execution_count": 8,
   "id": "681be26e-4d41-4134-a204-4324e7b27118",
   "metadata": {},
   "outputs": [
    {
     "data": {
      "text/plain": [
       "[0, 1]"
      ]
     },
     "execution_count": 8,
     "metadata": {},
     "output_type": "execute_result"
    }
   ],
   "source": [
    "two_sum_brute_force(num_list_3,sum_3)"
   ]
  },
  {
   "cell_type": "code",
   "execution_count": null,
   "id": "0fb74551-42df-47c7-b08c-2eca7e7b3bb4",
   "metadata": {},
   "outputs": [],
   "source": []
  },
  {
   "cell_type": "markdown",
   "id": "958b079a-735f-4f91-8c52-e945b87e9e77",
   "metadata": {},
   "source": [
    "2️⃣ 𝗛𝗮𝘀𝗵𝗠𝗮𝗽 𝗧𝗲𝗰𝗵𝗻𝗶𝗾𝘂𝗲 (𝗘𝗳𝗳𝗶𝗰𝗶𝗲𝗻𝘁) ⏱ :O(N) | 💾 : O(N)\n",
    "\n",
    "- Traverse the array once.\n",
    "- For each element e at index i:\n",
    "- Compute complement = target - e.\n",
    "- If complement exists in the HashMap → return indices.\n",
    "- Else, store (e, i) in the HashMap.\n",
    "\n",
    "💡 Example:\n",
    "- First element = 2 → need 7 more. Store (2,0).\n",
    "- Next element = 7 → check if 2 exists. Yes ✅ → return [0,1]."
   ]
  },
  {
   "cell_type": "code",
   "execution_count": 9,
   "id": "7a092be6-76e5-4360-91d9-80d40f9768ab",
   "metadata": {},
   "outputs": [],
   "source": [
    "def two_sum_hash_map(nums:list[int],target:int)->list[int]:\n",
    "    numsToIndex={}\n",
    "    for i in range(len(nums)):\n",
    "        if target-nums[i] in numsToIndex:\n",
    "            return [numsToIndex[target-nums[i]],i]\n",
    "\n",
    "        numsToIndex[nums[i]]=i\n"
   ]
  },
  {
   "cell_type": "code",
   "execution_count": 10,
   "id": "2b87fb71-63f8-4659-8395-5cc5aa685d26",
   "metadata": {},
   "outputs": [
    {
     "name": "stdout",
     "output_type": "stream",
     "text": [
      "304 ns ± 18.5 ns per loop (mean ± std. dev. of 7 runs, 1,000,000 loops each)\n"
     ]
    }
   ],
   "source": [
    "%%timeit\n",
    "two_sum_hash_map(num_list_1,sum_1)"
   ]
  },
  {
   "cell_type": "code",
   "execution_count": 11,
   "id": "8d771a47-7218-443d-b991-c6c19b34bc3b",
   "metadata": {},
   "outputs": [
    {
     "data": {
      "text/plain": [
       "[0, 1]"
      ]
     },
     "execution_count": 11,
     "metadata": {},
     "output_type": "execute_result"
    }
   ],
   "source": [
    "two_sum_hash_map(num_list_1,sum_1)"
   ]
  },
  {
   "cell_type": "code",
   "execution_count": 12,
   "id": "9e4996dd-5ccc-4415-8a55-e84729bb6a39",
   "metadata": {},
   "outputs": [
    {
     "name": "stdout",
     "output_type": "stream",
     "text": [
      "541 ns ± 64.2 ns per loop (mean ± std. dev. of 7 runs, 1,000,000 loops each)\n"
     ]
    }
   ],
   "source": [
    "%%timeit\n",
    "two_sum_hash_map(num_list_2,sum_2)"
   ]
  },
  {
   "cell_type": "code",
   "execution_count": 13,
   "id": "5b027794-a523-4130-b1cb-6a828b0bbaca",
   "metadata": {},
   "outputs": [
    {
     "data": {
      "text/plain": [
       "[0, 3]"
      ]
     },
     "execution_count": 13,
     "metadata": {},
     "output_type": "execute_result"
    }
   ],
   "source": [
    "two_sum_hash_map(num_list_2,sum_2)"
   ]
  },
  {
   "cell_type": "code",
   "execution_count": 14,
   "id": "265233bd-5102-4265-8dfa-7dfdae2838a2",
   "metadata": {},
   "outputs": [
    {
     "name": "stdout",
     "output_type": "stream",
     "text": [
      "293 ns ± 0.535 ns per loop (mean ± std. dev. of 7 runs, 1,000,000 loops each)\n"
     ]
    }
   ],
   "source": [
    "%%timeit\n",
    "two_sum_hash_map(num_list_3,sum_3)"
   ]
  },
  {
   "cell_type": "code",
   "execution_count": 15,
   "id": "4327acda-16d5-459b-ae3a-ae25f0b4b45b",
   "metadata": {},
   "outputs": [
    {
     "data": {
      "text/plain": [
       "[0, 1]"
      ]
     },
     "execution_count": 15,
     "metadata": {},
     "output_type": "execute_result"
    }
   ],
   "source": [
    "two_sum_hash_map(num_list_3,sum_3)"
   ]
  },
  {
   "cell_type": "code",
   "execution_count": null,
   "id": "9138319c-1fb9-490c-ab01-da0c62ee6824",
   "metadata": {},
   "outputs": [],
   "source": []
  },
  {
   "cell_type": "markdown",
   "id": "5ec1d39b-5bdd-49f8-88f5-427208dacf23",
   "metadata": {},
   "source": [
    "3️⃣ 𝗦𝗼𝗿𝘁𝗶𝗻𝗴 + 𝗧𝘄𝗼 𝗣𝗼𝗶𝗻𝘁𝗲𝗿𝘀 ⏱ O(N log N) | 💾 : O(N)\n",
    "\n",
    "- Sort the array (store elements with original indices).\n",
    "- Keep two pointers:\n",
    "- left → start of array\n",
    "- right → end of array\n",
    "<br>\n",
    "<br>\n",
    "- If sum > target → move right leftwards.\n",
    "- If sum < target → move left rightwards.\n",
    "- If sum == target → found the answer.\n",
    "\n",
    "!!⚠️ Sorting changes the order, so track original indices before sorting."
   ]
  },
  {
   "cell_type": "code",
   "execution_count": 16,
   "id": "98b7ad31-0f7d-4654-aa41-815f4690ad43",
   "metadata": {},
   "outputs": [],
   "source": [
    "def two_sum_sorting_2_pointer(num:list[int], target:int)->tuple[int]:\n",
    "    left, right = 0, len(num) - 1\n",
    "    while left < right:\n",
    "        sum = num[left] + num[right]\n",
    "\n",
    "        if sum == target:\n",
    "            return  (num[left], num[right])\n",
    "        elif sum < target: \n",
    "            left += 1 \n",
    "        else:\n",
    "            right -= 1\n",
    "\n",
    "    return -1,"
   ]
  },
  {
   "cell_type": "code",
   "execution_count": 17,
   "id": "17559ffe-f9d1-41e2-8264-4d9e2a6bac2b",
   "metadata": {},
   "outputs": [
    {
     "name": "stdout",
     "output_type": "stream",
     "text": [
      "246 ns ± 24.6 ns per loop (mean ± std. dev. of 7 runs, 1,000,000 loops each)\n"
     ]
    }
   ],
   "source": [
    "%%timeit\n",
    "two_sum_sorting_2_pointer(sorted(num_list_1),sum_1)"
   ]
  },
  {
   "cell_type": "code",
   "execution_count": 18,
   "id": "56c504f9-4ce3-40a1-a004-44323d507a76",
   "metadata": {},
   "outputs": [
    {
     "data": {
      "text/plain": [
       "(3, 3)"
      ]
     },
     "execution_count": 18,
     "metadata": {},
     "output_type": "execute_result"
    }
   ],
   "source": [
    "two_sum_sorting_2_pointer(sorted(num_list_1),sum_1)"
   ]
  },
  {
   "cell_type": "code",
   "execution_count": 19,
   "id": "16f94425-f50e-4c6f-b2c4-d85a0e390bd8",
   "metadata": {},
   "outputs": [
    {
     "name": "stdout",
     "output_type": "stream",
     "text": [
      "326 ns ± 24.9 ns per loop (mean ± std. dev. of 7 runs, 1,000,000 loops each)\n"
     ]
    }
   ],
   "source": [
    "%%timeit\n",
    "two_sum_sorting_2_pointer(sorted(num_list_2),sum_2)"
   ]
  },
  {
   "cell_type": "code",
   "execution_count": 20,
   "id": "92bda23d-a6f1-46af-bd13-1d2748dccbf2",
   "metadata": {},
   "outputs": [
    {
     "data": {
      "text/plain": [
       "(-3, 1)"
      ]
     },
     "execution_count": 20,
     "metadata": {},
     "output_type": "execute_result"
    }
   ],
   "source": [
    "two_sum_sorting_2_pointer(sorted(num_list_2),sum_2)"
   ]
  },
  {
   "cell_type": "code",
   "execution_count": 21,
   "id": "42de93d2-d414-4b4e-9873-52e4c2e7cd76",
   "metadata": {},
   "outputs": [
    {
     "name": "stdout",
     "output_type": "stream",
     "text": [
      "389 ns ± 20.9 ns per loop (mean ± std. dev. of 7 runs, 1,000,000 loops each)\n"
     ]
    }
   ],
   "source": [
    "%%timeit\n",
    "two_sum_sorting_2_pointer(sorted(num_list_3),sum_3)"
   ]
  },
  {
   "cell_type": "code",
   "execution_count": 22,
   "id": "162f9b19-5c3b-4c18-8e08-5a1d892dcb45",
   "metadata": {},
   "outputs": [
    {
     "data": {
      "text/plain": [
       "(2, 7)"
      ]
     },
     "execution_count": 22,
     "metadata": {},
     "output_type": "execute_result"
    }
   ],
   "source": [
    "two_sum_sorting_2_pointer(sorted(num_list_3),sum_3)"
   ]
  }
 ],
 "metadata": {
  "kernelspec": {
   "display_name": "Python 3 (ipykernel)",
   "language": "python",
   "name": "python3"
  },
  "language_info": {
   "codemirror_mode": {
    "name": "ipython",
    "version": 3
   },
   "file_extension": ".py",
   "mimetype": "text/x-python",
   "name": "python",
   "nbconvert_exporter": "python",
   "pygments_lexer": "ipython3",
   "version": "3.12.3"
  }
 },
 "nbformat": 4,
 "nbformat_minor": 5
}
