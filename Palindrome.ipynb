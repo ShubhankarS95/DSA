{
 "cells": [
  {
   "cell_type": "code",
   "execution_count": 3,
   "id": "3faf56e8-2ccd-467b-b8db-886dc6179ae3",
   "metadata": {},
   "outputs": [],
   "source": [
    "def isPalindrome_1(x: int) -> bool:\n",
    "    return str(x)==str(x)[::-1]"
   ]
  },
  {
   "cell_type": "code",
   "execution_count": 4,
   "id": "86e5cbcc-184c-496a-be6c-6d767aa9a861",
   "metadata": {},
   "outputs": [
    {
     "data": {
      "text/plain": [
       "True"
      ]
     },
     "execution_count": 4,
     "metadata": {},
     "output_type": "execute_result"
    }
   ],
   "source": [
    "isPalindrome_1(121)"
   ]
  },
  {
   "cell_type": "code",
   "execution_count": 5,
   "id": "a314e560-ea6f-4cc4-b9c8-faf65d24a2e0",
   "metadata": {},
   "outputs": [
    {
     "data": {
      "text/plain": [
       "False"
      ]
     },
     "execution_count": 5,
     "metadata": {},
     "output_type": "execute_result"
    }
   ],
   "source": [
    "isPalindrome_1(-121)"
   ]
  },
  {
   "cell_type": "code",
   "execution_count": 6,
   "id": "12920dc0-fb24-4b8e-ade4-723f9b2b1cc3",
   "metadata": {},
   "outputs": [
    {
     "data": {
      "text/plain": [
       "False"
      ]
     },
     "execution_count": 6,
     "metadata": {},
     "output_type": "execute_result"
    }
   ],
   "source": [
    "isPalindrome_1(10)"
   ]
  },
  {
   "cell_type": "code",
   "execution_count": 15,
   "id": "252b21be-7485-4598-bd45-c8a5a9de158c",
   "metadata": {},
   "outputs": [],
   "source": [
    "def isPalindrome_2(x: int) -> bool:\n",
    "    t=x\n",
    "    rev=0\n",
    "    while t>0:\n",
    "        rem=t%10\n",
    "        rev=rev*10+rem\n",
    "        t=t//10\n",
    "    return x==rev"
   ]
  },
  {
   "cell_type": "code",
   "execution_count": 16,
   "id": "fef560b9-6026-4f94-9488-34eb57bfbf80",
   "metadata": {},
   "outputs": [
    {
     "data": {
      "text/plain": [
       "False"
      ]
     },
     "execution_count": 16,
     "metadata": {},
     "output_type": "execute_result"
    }
   ],
   "source": [
    "isPalindrome_2(-121)"
   ]
  },
  {
   "cell_type": "code",
   "execution_count": 17,
   "id": "0dbff6ad-caaf-4c28-8505-ec84d6250298",
   "metadata": {},
   "outputs": [
    {
     "data": {
      "text/plain": [
       "True"
      ]
     },
     "execution_count": 17,
     "metadata": {},
     "output_type": "execute_result"
    }
   ],
   "source": [
    "isPalindrome_2(121)"
   ]
  },
  {
   "cell_type": "code",
   "execution_count": 18,
   "id": "f40323b5-649d-413d-a7c9-1739994d3dd2",
   "metadata": {},
   "outputs": [
    {
     "data": {
      "text/plain": [
       "False"
      ]
     },
     "execution_count": 18,
     "metadata": {},
     "output_type": "execute_result"
    }
   ],
   "source": [
    "isPalindrome_2(10)"
   ]
  },
  {
   "cell_type": "code",
   "execution_count": 19,
   "id": "60ffcd99-785d-4311-8021-d0198c01918a",
   "metadata": {},
   "outputs": [
    {
     "data": {
      "text/plain": [
       "False"
      ]
     },
     "execution_count": 19,
     "metadata": {},
     "output_type": "execute_result"
    }
   ],
   "source": [
    "isPalindrome_2(104201)"
   ]
  },
  {
   "cell_type": "code",
   "execution_count": 35,
   "id": "dbc01d9d-f668-4448-9835-74c2ad28d199",
   "metadata": {},
   "outputs": [],
   "source": [
    "def isPalindrome_3(x: int) -> bool:\n",
    "    if x<0 or (x%10==0 and x!=0):\n",
    "        return False\n",
    "    t=x\n",
    "    rev=0\n",
    "    while t>rev:\n",
    "        rev=rev*10+t%10\n",
    "        t=t//10\n",
    "    \n",
    "    print(rev,t)\n",
    "    return t==rev or t==rev//10\n",
    "\n"
   ]
  },
  {
   "cell_type": "code",
   "execution_count": 36,
   "id": "c4e576f6-31ba-4cab-868a-fdb0e1cb9a3d",
   "metadata": {},
   "outputs": [
    {
     "name": "stdout",
     "output_type": "stream",
     "text": [
      "12 1\n"
     ]
    },
    {
     "data": {
      "text/plain": [
       "True"
      ]
     },
     "execution_count": 36,
     "metadata": {},
     "output_type": "execute_result"
    }
   ],
   "source": [
    "isPalindrome_3(121)"
   ]
  },
  {
   "cell_type": "code",
   "execution_count": 24,
   "id": "f12effe2-7aa3-46af-bcea-ee37a47f4ffd",
   "metadata": {},
   "outputs": [
    {
     "data": {
      "text/plain": [
       "False"
      ]
     },
     "execution_count": 24,
     "metadata": {},
     "output_type": "execute_result"
    }
   ],
   "source": [
    "isPalindrome_3(104201)"
   ]
  },
  {
   "cell_type": "code",
   "execution_count": 25,
   "id": "bf18b7ea-ffc7-48dd-98ef-6f076c3866af",
   "metadata": {},
   "outputs": [
    {
     "data": {
      "text/plain": [
       "False"
      ]
     },
     "execution_count": 25,
     "metadata": {},
     "output_type": "execute_result"
    }
   ],
   "source": [
    "isPalindrome_3(-121)"
   ]
  },
  {
   "cell_type": "code",
   "execution_count": 26,
   "id": "8dff7892-7be5-49de-ac2b-b7d9b914b640",
   "metadata": {},
   "outputs": [
    {
     "data": {
      "text/plain": [
       "False"
      ]
     },
     "execution_count": 26,
     "metadata": {},
     "output_type": "execute_result"
    }
   ],
   "source": [
    "isPalindrome_3(10)"
   ]
  },
  {
   "cell_type": "code",
   "execution_count": null,
   "id": "2b2ed734-6b0a-47fb-b15f-e7e78968ae56",
   "metadata": {},
   "outputs": [],
   "source": []
  }
 ],
 "metadata": {
  "kernelspec": {
   "display_name": "Python 3 (ipykernel)",
   "language": "python",
   "name": "python3"
  },
  "language_info": {
   "codemirror_mode": {
    "name": "ipython",
    "version": 3
   },
   "file_extension": ".py",
   "mimetype": "text/x-python",
   "name": "python",
   "nbconvert_exporter": "python",
   "pygments_lexer": "ipython3",
   "version": "3.12.3"
  }
 },
 "nbformat": 4,
 "nbformat_minor": 5
}
